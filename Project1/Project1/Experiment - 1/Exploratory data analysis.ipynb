{
 "cells": [
  {
   "cell_type": "markdown",
   "metadata": {
    "_uuid": "9b690f2c8129ad9445c544337375b93246c26668"
   },
   "source": [
    "# <center> Exploratory data analysis with Pandas"
   ]
  },
  {
   "cell_type": "markdown",
   "metadata": {
    "_uuid": "8000f32601aff93ebda3e8ca0baea376988a5649"
   },
   "source": [
    "## 1. Demonstration of main Pandas methods\n",
    "\n",
    "**[Pandas](http://pandas.pydata.org)** is a Python library that provides extensive means for data analysis. Data scientists often work with data stored in table formats like `.csv`, `.tsv`, or `.xlsx`. Pandas makes it very convenient to load, process, and analyze such tabular data using SQL-like queries. In conjunction with other useful library `Matplotlib` and `Seaborn`, `Pandas` provides a wide range of opportunities for visual analysis of tabular data.\n",
    "\n",
    "The main data structures in `Pandas` are implemented with **DataFrame** classes. `DataFrames` are great for representing real data: rows correspond to instances (examples, observations, etc.), and columns correspond to features of these instances.\n",
    "\n",
    "To run each cell we press **Shift+Enter**. Running the first cell should print \"Executing the first cell of my class.\""
   ]
  },
  {
   "cell_type": "code",
   "execution_count": 1,
   "metadata": {},
   "outputs": [
    {
     "name": "stdout",
     "output_type": "stream",
     "text": [
      "Executing the first cell of my class\n"
     ]
    }
   ],
   "source": [
    "print (\"Executing the first cell of my class\")"
   ]
  },
  {
   "cell_type": "markdown",
   "metadata": {},
   "source": [
    "Next we import python libraries `numpy` and `pandas`. To do so, we execute the below cell"
   ]
  },
  {
   "cell_type": "code",
   "execution_count": 2,
   "metadata": {
    "_uuid": "e855067a1d281ca6634772513ef918aa1c9224f4"
   },
   "outputs": [],
   "source": [
    "import numpy as np\n",
    "import pandas as pd\n",
    "pd.set_option(\"display.precision\", 2)\n",
    "pd.set_option('display.max_columns', None)"
   ]
  },
  {
   "cell_type": "markdown",
   "metadata": {
    "_uuid": "e3ae8b8d09f0dd881831253957ca96d086038f7b"
   },
   "source": [
    "In this assignment, we'll demonstrate the main methods in action by analyzing a [dataset](https://bigml.com/user/francisco/gallery/dataset/5163ad540c0b5e5b22000383) on the churn rate of telecom operator clients. Let's read the data (using `read_csv`), and take a look at the first 5 lines using the `head` method:"
   ]
  },
  {
   "cell_type": "code",
   "execution_count": 12,
   "metadata": {
    "_uuid": "f274f88e14b4df01f8f60bd8be5e0cea903a7dd7"
   },
   "outputs": [
    {
     "data": {
      "text/html": [
       "<div>\n",
       "<style scoped>\n",
       "    .dataframe tbody tr th:only-of-type {\n",
       "        vertical-align: middle;\n",
       "    }\n",
       "\n",
       "    .dataframe tbody tr th {\n",
       "        vertical-align: top;\n",
       "    }\n",
       "\n",
       "    .dataframe thead th {\n",
       "        text-align: right;\n",
       "    }\n",
       "</style>\n",
       "<table border=\"1\" class=\"dataframe\">\n",
       "  <thead>\n",
       "    <tr style=\"text-align: right;\">\n",
       "      <th></th>\n",
       "      <th>state</th>\n",
       "      <th>account length</th>\n",
       "      <th>area code</th>\n",
       "      <th>phone number</th>\n",
       "      <th>international plan</th>\n",
       "      <th>voice mail plan</th>\n",
       "      <th>number vmail messages</th>\n",
       "      <th>total day minutes</th>\n",
       "      <th>total day calls</th>\n",
       "      <th>total day charge</th>\n",
       "      <th>total eve minutes</th>\n",
       "      <th>total eve calls</th>\n",
       "      <th>total eve charge</th>\n",
       "      <th>total night minutes</th>\n",
       "      <th>total night calls</th>\n",
       "      <th>total night charge</th>\n",
       "      <th>total intl minutes</th>\n",
       "      <th>total intl calls</th>\n",
       "      <th>total intl charge</th>\n",
       "      <th>customer service calls</th>\n",
       "      <th>churn</th>\n",
       "    </tr>\n",
       "  </thead>\n",
       "  <tbody>\n",
       "    <tr>\n",
       "      <th>0</th>\n",
       "      <td>KS</td>\n",
       "      <td>128</td>\n",
       "      <td>415</td>\n",
       "      <td>382-4657</td>\n",
       "      <td>no</td>\n",
       "      <td>yes</td>\n",
       "      <td>25</td>\n",
       "      <td>265.1</td>\n",
       "      <td>110</td>\n",
       "      <td>45.07</td>\n",
       "      <td>197.4</td>\n",
       "      <td>99</td>\n",
       "      <td>16.78</td>\n",
       "      <td>244.7</td>\n",
       "      <td>91</td>\n",
       "      <td>11.01</td>\n",
       "      <td>10.0</td>\n",
       "      <td>3</td>\n",
       "      <td>2.70</td>\n",
       "      <td>1</td>\n",
       "      <td>False</td>\n",
       "    </tr>\n",
       "    <tr>\n",
       "      <th>1</th>\n",
       "      <td>OH</td>\n",
       "      <td>107</td>\n",
       "      <td>415</td>\n",
       "      <td>371-7191</td>\n",
       "      <td>no</td>\n",
       "      <td>yes</td>\n",
       "      <td>26</td>\n",
       "      <td>161.6</td>\n",
       "      <td>123</td>\n",
       "      <td>27.47</td>\n",
       "      <td>195.5</td>\n",
       "      <td>103</td>\n",
       "      <td>16.62</td>\n",
       "      <td>254.4</td>\n",
       "      <td>103</td>\n",
       "      <td>11.45</td>\n",
       "      <td>13.7</td>\n",
       "      <td>3</td>\n",
       "      <td>3.70</td>\n",
       "      <td>1</td>\n",
       "      <td>False</td>\n",
       "    </tr>\n",
       "    <tr>\n",
       "      <th>2</th>\n",
       "      <td>NJ</td>\n",
       "      <td>137</td>\n",
       "      <td>415</td>\n",
       "      <td>358-1921</td>\n",
       "      <td>no</td>\n",
       "      <td>no</td>\n",
       "      <td>0</td>\n",
       "      <td>243.4</td>\n",
       "      <td>114</td>\n",
       "      <td>41.38</td>\n",
       "      <td>121.2</td>\n",
       "      <td>110</td>\n",
       "      <td>10.30</td>\n",
       "      <td>162.6</td>\n",
       "      <td>104</td>\n",
       "      <td>7.32</td>\n",
       "      <td>12.2</td>\n",
       "      <td>5</td>\n",
       "      <td>3.29</td>\n",
       "      <td>0</td>\n",
       "      <td>False</td>\n",
       "    </tr>\n",
       "    <tr>\n",
       "      <th>3</th>\n",
       "      <td>OH</td>\n",
       "      <td>84</td>\n",
       "      <td>408</td>\n",
       "      <td>375-9999</td>\n",
       "      <td>yes</td>\n",
       "      <td>no</td>\n",
       "      <td>0</td>\n",
       "      <td>299.4</td>\n",
       "      <td>71</td>\n",
       "      <td>50.90</td>\n",
       "      <td>61.9</td>\n",
       "      <td>88</td>\n",
       "      <td>5.26</td>\n",
       "      <td>196.9</td>\n",
       "      <td>89</td>\n",
       "      <td>8.86</td>\n",
       "      <td>6.6</td>\n",
       "      <td>7</td>\n",
       "      <td>1.78</td>\n",
       "      <td>2</td>\n",
       "      <td>False</td>\n",
       "    </tr>\n",
       "    <tr>\n",
       "      <th>4</th>\n",
       "      <td>OK</td>\n",
       "      <td>75</td>\n",
       "      <td>415</td>\n",
       "      <td>330-6626</td>\n",
       "      <td>yes</td>\n",
       "      <td>no</td>\n",
       "      <td>0</td>\n",
       "      <td>166.7</td>\n",
       "      <td>113</td>\n",
       "      <td>28.34</td>\n",
       "      <td>148.3</td>\n",
       "      <td>122</td>\n",
       "      <td>12.61</td>\n",
       "      <td>186.9</td>\n",
       "      <td>121</td>\n",
       "      <td>8.41</td>\n",
       "      <td>10.1</td>\n",
       "      <td>3</td>\n",
       "      <td>2.73</td>\n",
       "      <td>3</td>\n",
       "      <td>False</td>\n",
       "    </tr>\n",
       "  </tbody>\n",
       "</table>\n",
       "</div>"
      ],
      "text/plain": [
       "  state  account length  area code phone number international plan  \\\n",
       "0    KS             128        415     382-4657                 no   \n",
       "1    OH             107        415     371-7191                 no   \n",
       "2    NJ             137        415     358-1921                 no   \n",
       "3    OH              84        408     375-9999                yes   \n",
       "4    OK              75        415     330-6626                yes   \n",
       "\n",
       "  voice mail plan  number vmail messages  total day minutes  total day calls  \\\n",
       "0             yes                     25              265.1              110   \n",
       "1             yes                     26              161.6              123   \n",
       "2              no                      0              243.4              114   \n",
       "3              no                      0              299.4               71   \n",
       "4              no                      0              166.7              113   \n",
       "\n",
       "   total day charge  total eve minutes  total eve calls  total eve charge  \\\n",
       "0             45.07              197.4               99             16.78   \n",
       "1             27.47              195.5              103             16.62   \n",
       "2             41.38              121.2              110             10.30   \n",
       "3             50.90               61.9               88              5.26   \n",
       "4             28.34              148.3              122             12.61   \n",
       "\n",
       "   total night minutes  total night calls  total night charge  \\\n",
       "0                244.7                 91               11.01   \n",
       "1                254.4                103               11.45   \n",
       "2                162.6                104                7.32   \n",
       "3                196.9                 89                8.86   \n",
       "4                186.9                121                8.41   \n",
       "\n",
       "   total intl minutes  total intl calls  total intl charge  \\\n",
       "0                10.0                 3               2.70   \n",
       "1                13.7                 3               3.70   \n",
       "2                12.2                 5               3.29   \n",
       "3                 6.6                 7               1.78   \n",
       "4                10.1                 3               2.73   \n",
       "\n",
       "   customer service calls  churn  \n",
       "0                       1  False  \n",
       "1                       1  False  \n",
       "2                       0  False  \n",
       "3                       2  False  \n",
       "4                       3  False  "
      ]
     },
     "execution_count": 12,
     "metadata": {},
     "output_type": "execute_result"
    }
   ],
   "source": [
    "df = pd.read_csv('telecom_churn.csv')\n",
    "df.head()"
   ]
  },
  {
   "cell_type": "markdown",
   "metadata": {
    "_uuid": "a2f8fc5742d83ec5a110fa56fd967497013bec39"
   },
   "source": [
    "Recall that each row corresponds to one client, an **instance**, and columns are **features** of this instance."
   ]
  },
  {
   "cell_type": "markdown",
   "metadata": {
    "_uuid": "d1a98d3e208e59ad0825687ba732f32714fd5e5c"
   },
   "source": [
    "Let’s have a look at data dimensionality, feature names, and feature types."
   ]
  },
  {
   "cell_type": "code",
   "execution_count": 13,
   "metadata": {
    "_uuid": "85347476c8a704b43ddc6b5ec54ac0059b2b740a"
   },
   "outputs": [
    {
     "name": "stdout",
     "output_type": "stream",
     "text": [
      "(3333, 21)\n"
     ]
    }
   ],
   "source": [
    "print(df.shape)"
   ]
  },
  {
   "cell_type": "markdown",
   "metadata": {
    "_uuid": "26e01159ec9dfc2634bbb3be4ccc3ec82c1b01e4"
   },
   "source": [
    "From the output, we can see that the table contains 3333 rows and 21 columns.\n",
    "\n",
    "Now let's try printing out column names using `columns`:"
   ]
  },
  {
   "cell_type": "code",
   "execution_count": 20,
   "metadata": {
    "_uuid": "216df4e9a25d0baa8b506e1ec72df488d78367eb"
   },
   "outputs": [
    {
     "name": "stdout",
     "output_type": "stream",
     "text": [
      "['state', 'account length', 'area code', 'phone number', 'international plan', 'voice mail plan', 'number vmail messages', 'total day minutes', 'total day calls', 'total day charge', 'total eve minutes', 'total eve calls', 'total eve charge', 'total night minutes', 'total night calls', 'total night charge', 'total intl minutes', 'total intl calls', 'total intl charge', 'customer service calls', 'churn']\n"
     ]
    }
   ],
   "source": [
    "print(list(df.columns))"
   ]
  },
  {
   "cell_type": "markdown",
   "metadata": {
    "_uuid": "60f8c02d4e9b4ef82f9721fc2fb274ca50e0d6e4"
   },
   "source": [
    "We can use the `info()` method to output some general information about the dataframe. Note that the 'object' data type refers to categorical variables in this data set. '3333 non-null' means that all 3333 values of the corresponding variable are not missing.  "
   ]
  },
  {
   "cell_type": "code",
   "execution_count": 22,
   "metadata": {
    "_uuid": "2bcfb060dcbda4fe1720eaf3c2e5c003a891dd77"
   },
   "outputs": [
    {
     "name": "stdout",
     "output_type": "stream",
     "text": [
      "<class 'pandas.core.frame.DataFrame'>\n",
      "RangeIndex: 3333 entries, 0 to 3332\n",
      "Data columns (total 21 columns):\n",
      " #   Column                  Non-Null Count  Dtype  \n",
      "---  ------                  --------------  -----  \n",
      " 0   state                   3333 non-null   object \n",
      " 1   account length          3333 non-null   int64  \n",
      " 2   area code               3333 non-null   int64  \n",
      " 3   phone number            3333 non-null   object \n",
      " 4   international plan      3333 non-null   object \n",
      " 5   voice mail plan         3333 non-null   object \n",
      " 6   number vmail messages   3333 non-null   int64  \n",
      " 7   total day minutes       3333 non-null   float64\n",
      " 8   total day calls         3333 non-null   int64  \n",
      " 9   total day charge        3333 non-null   float64\n",
      " 10  total eve minutes       3333 non-null   float64\n",
      " 11  total eve calls         3333 non-null   int64  \n",
      " 12  total eve charge        3333 non-null   float64\n",
      " 13  total night minutes     3333 non-null   float64\n",
      " 14  total night calls       3333 non-null   int64  \n",
      " 15  total night charge      3333 non-null   float64\n",
      " 16  total intl minutes      3333 non-null   float64\n",
      " 17  total intl calls        3333 non-null   int64  \n",
      " 18  total intl charge       3333 non-null   float64\n",
      " 19  customer service calls  3333 non-null   int64  \n",
      " 20  churn                   3333 non-null   bool   \n",
      "dtypes: bool(1), float64(8), int64(8), object(4)\n",
      "memory usage: 524.2+ KB\n",
      "None\n"
     ]
    }
   ],
   "source": [
    "print(df.info())   "
   ]
  },
  {
   "cell_type": "markdown",
   "metadata": {
    "_uuid": "6fac47f7e7bcf060164b1881d8e199973834cd38"
   },
   "source": [
    "`bool`, `int64`, `float64` and `object` are the data types of our features. We see that one feature is logical (`bool`), 3 features are of type `object`, and 16 features are numeric. With this same method, we can easily see if there are any missing values. Here, there are none because each column contains 3333 observations, the same number of rows we saw before with `shape`."
   ]
  },
  {
   "cell_type": "markdown",
   "metadata": {
    "_uuid": "11030a8bd020c6a3a04beb73531e9676160bcab8"
   },
   "source": [
    "The `describe` method shows basic statistical characteristics of each numerical feature (`int64` and `float64` types): number of non-missing values, mean, standard deviation, range, median, 0.25 and 0.75 quartiles."
   ]
  },
  {
   "cell_type": "code",
   "execution_count": 23,
   "metadata": {
    "_uuid": "24e1d394f938980403a736421b4cf855ddb8ef8c"
   },
   "outputs": [
    {
     "data": {
      "text/html": [
       "<div>\n",
       "<style scoped>\n",
       "    .dataframe tbody tr th:only-of-type {\n",
       "        vertical-align: middle;\n",
       "    }\n",
       "\n",
       "    .dataframe tbody tr th {\n",
       "        vertical-align: top;\n",
       "    }\n",
       "\n",
       "    .dataframe thead th {\n",
       "        text-align: right;\n",
       "    }\n",
       "</style>\n",
       "<table border=\"1\" class=\"dataframe\">\n",
       "  <thead>\n",
       "    <tr style=\"text-align: right;\">\n",
       "      <th></th>\n",
       "      <th>account length</th>\n",
       "      <th>area code</th>\n",
       "      <th>number vmail messages</th>\n",
       "      <th>total day minutes</th>\n",
       "      <th>total day calls</th>\n",
       "      <th>total day charge</th>\n",
       "      <th>total eve minutes</th>\n",
       "      <th>total eve calls</th>\n",
       "      <th>total eve charge</th>\n",
       "      <th>total night minutes</th>\n",
       "      <th>total night calls</th>\n",
       "      <th>total night charge</th>\n",
       "      <th>total intl minutes</th>\n",
       "      <th>total intl calls</th>\n",
       "      <th>total intl charge</th>\n",
       "      <th>customer service calls</th>\n",
       "    </tr>\n",
       "  </thead>\n",
       "  <tbody>\n",
       "    <tr>\n",
       "      <th>count</th>\n",
       "      <td>3333.00</td>\n",
       "      <td>3333.00</td>\n",
       "      <td>3333.00</td>\n",
       "      <td>3333.00</td>\n",
       "      <td>3333.00</td>\n",
       "      <td>3333.00</td>\n",
       "      <td>3333.00</td>\n",
       "      <td>3333.00</td>\n",
       "      <td>3333.00</td>\n",
       "      <td>3333.00</td>\n",
       "      <td>3333.00</td>\n",
       "      <td>3333.00</td>\n",
       "      <td>3333.00</td>\n",
       "      <td>3333.00</td>\n",
       "      <td>3333.00</td>\n",
       "      <td>3333.00</td>\n",
       "    </tr>\n",
       "    <tr>\n",
       "      <th>mean</th>\n",
       "      <td>101.06</td>\n",
       "      <td>437.18</td>\n",
       "      <td>8.10</td>\n",
       "      <td>179.78</td>\n",
       "      <td>100.44</td>\n",
       "      <td>30.56</td>\n",
       "      <td>200.98</td>\n",
       "      <td>100.11</td>\n",
       "      <td>17.08</td>\n",
       "      <td>200.87</td>\n",
       "      <td>100.11</td>\n",
       "      <td>9.04</td>\n",
       "      <td>10.24</td>\n",
       "      <td>4.48</td>\n",
       "      <td>2.76</td>\n",
       "      <td>1.56</td>\n",
       "    </tr>\n",
       "    <tr>\n",
       "      <th>std</th>\n",
       "      <td>39.82</td>\n",
       "      <td>42.37</td>\n",
       "      <td>13.69</td>\n",
       "      <td>54.47</td>\n",
       "      <td>20.07</td>\n",
       "      <td>9.26</td>\n",
       "      <td>50.71</td>\n",
       "      <td>19.92</td>\n",
       "      <td>4.31</td>\n",
       "      <td>50.57</td>\n",
       "      <td>19.57</td>\n",
       "      <td>2.28</td>\n",
       "      <td>2.79</td>\n",
       "      <td>2.46</td>\n",
       "      <td>0.75</td>\n",
       "      <td>1.32</td>\n",
       "    </tr>\n",
       "    <tr>\n",
       "      <th>min</th>\n",
       "      <td>1.00</td>\n",
       "      <td>408.00</td>\n",
       "      <td>0.00</td>\n",
       "      <td>0.00</td>\n",
       "      <td>0.00</td>\n",
       "      <td>0.00</td>\n",
       "      <td>0.00</td>\n",
       "      <td>0.00</td>\n",
       "      <td>0.00</td>\n",
       "      <td>23.20</td>\n",
       "      <td>33.00</td>\n",
       "      <td>1.04</td>\n",
       "      <td>0.00</td>\n",
       "      <td>0.00</td>\n",
       "      <td>0.00</td>\n",
       "      <td>0.00</td>\n",
       "    </tr>\n",
       "    <tr>\n",
       "      <th>25%</th>\n",
       "      <td>74.00</td>\n",
       "      <td>408.00</td>\n",
       "      <td>0.00</td>\n",
       "      <td>143.70</td>\n",
       "      <td>87.00</td>\n",
       "      <td>24.43</td>\n",
       "      <td>166.60</td>\n",
       "      <td>87.00</td>\n",
       "      <td>14.16</td>\n",
       "      <td>167.00</td>\n",
       "      <td>87.00</td>\n",
       "      <td>7.52</td>\n",
       "      <td>8.50</td>\n",
       "      <td>3.00</td>\n",
       "      <td>2.30</td>\n",
       "      <td>1.00</td>\n",
       "    </tr>\n",
       "    <tr>\n",
       "      <th>50%</th>\n",
       "      <td>101.00</td>\n",
       "      <td>415.00</td>\n",
       "      <td>0.00</td>\n",
       "      <td>179.40</td>\n",
       "      <td>101.00</td>\n",
       "      <td>30.50</td>\n",
       "      <td>201.40</td>\n",
       "      <td>100.00</td>\n",
       "      <td>17.12</td>\n",
       "      <td>201.20</td>\n",
       "      <td>100.00</td>\n",
       "      <td>9.05</td>\n",
       "      <td>10.30</td>\n",
       "      <td>4.00</td>\n",
       "      <td>2.78</td>\n",
       "      <td>1.00</td>\n",
       "    </tr>\n",
       "    <tr>\n",
       "      <th>75%</th>\n",
       "      <td>127.00</td>\n",
       "      <td>510.00</td>\n",
       "      <td>20.00</td>\n",
       "      <td>216.40</td>\n",
       "      <td>114.00</td>\n",
       "      <td>36.79</td>\n",
       "      <td>235.30</td>\n",
       "      <td>114.00</td>\n",
       "      <td>20.00</td>\n",
       "      <td>235.30</td>\n",
       "      <td>113.00</td>\n",
       "      <td>10.59</td>\n",
       "      <td>12.10</td>\n",
       "      <td>6.00</td>\n",
       "      <td>3.27</td>\n",
       "      <td>2.00</td>\n",
       "    </tr>\n",
       "    <tr>\n",
       "      <th>max</th>\n",
       "      <td>243.00</td>\n",
       "      <td>510.00</td>\n",
       "      <td>51.00</td>\n",
       "      <td>350.80</td>\n",
       "      <td>165.00</td>\n",
       "      <td>59.64</td>\n",
       "      <td>363.70</td>\n",
       "      <td>170.00</td>\n",
       "      <td>30.91</td>\n",
       "      <td>395.00</td>\n",
       "      <td>175.00</td>\n",
       "      <td>17.77</td>\n",
       "      <td>20.00</td>\n",
       "      <td>20.00</td>\n",
       "      <td>5.40</td>\n",
       "      <td>9.00</td>\n",
       "    </tr>\n",
       "  </tbody>\n",
       "</table>\n",
       "</div>"
      ],
      "text/plain": [
       "       account length  area code  number vmail messages  total day minutes  \\\n",
       "count         3333.00    3333.00                3333.00            3333.00   \n",
       "mean           101.06     437.18                   8.10             179.78   \n",
       "std             39.82      42.37                  13.69              54.47   \n",
       "min              1.00     408.00                   0.00               0.00   \n",
       "25%             74.00     408.00                   0.00             143.70   \n",
       "50%            101.00     415.00                   0.00             179.40   \n",
       "75%            127.00     510.00                  20.00             216.40   \n",
       "max            243.00     510.00                  51.00             350.80   \n",
       "\n",
       "       total day calls  total day charge  total eve minutes  total eve calls  \\\n",
       "count          3333.00           3333.00            3333.00          3333.00   \n",
       "mean            100.44             30.56             200.98           100.11   \n",
       "std              20.07              9.26              50.71            19.92   \n",
       "min               0.00              0.00               0.00             0.00   \n",
       "25%              87.00             24.43             166.60            87.00   \n",
       "50%             101.00             30.50             201.40           100.00   \n",
       "75%             114.00             36.79             235.30           114.00   \n",
       "max             165.00             59.64             363.70           170.00   \n",
       "\n",
       "       total eve charge  total night minutes  total night calls  \\\n",
       "count           3333.00              3333.00            3333.00   \n",
       "mean              17.08               200.87             100.11   \n",
       "std                4.31                50.57              19.57   \n",
       "min                0.00                23.20              33.00   \n",
       "25%               14.16               167.00              87.00   \n",
       "50%               17.12               201.20             100.00   \n",
       "75%               20.00               235.30             113.00   \n",
       "max               30.91               395.00             175.00   \n",
       "\n",
       "       total night charge  total intl minutes  total intl calls  \\\n",
       "count             3333.00             3333.00           3333.00   \n",
       "mean                 9.04               10.24              4.48   \n",
       "std                  2.28                2.79              2.46   \n",
       "min                  1.04                0.00              0.00   \n",
       "25%                  7.52                8.50              3.00   \n",
       "50%                  9.05               10.30              4.00   \n",
       "75%                 10.59               12.10              6.00   \n",
       "max                 17.77               20.00             20.00   \n",
       "\n",
       "       total intl charge  customer service calls  \n",
       "count            3333.00                 3333.00  \n",
       "mean                2.76                    1.56  \n",
       "std                 0.75                    1.32  \n",
       "min                 0.00                    0.00  \n",
       "25%                 2.30                    1.00  \n",
       "50%                 2.78                    1.00  \n",
       "75%                 3.27                    2.00  \n",
       "max                 5.40                    9.00  "
      ]
     },
     "execution_count": 23,
     "metadata": {},
     "output_type": "execute_result"
    }
   ],
   "source": [
    "df.describe()"
   ]
  },
  {
   "cell_type": "markdown",
   "metadata": {
    "_uuid": "2314370435c6c44da57d4c97ad01ace128047fd5"
   },
   "source": [
    "In order to see statistics on non-numerical features, one has to explicitly indicate data types of interest in the `include` parameter."
   ]
  },
  {
   "cell_type": "code",
   "execution_count": 24,
   "metadata": {
    "_uuid": "c1bd67bc0b915dbac429152c649a7c118770d824"
   },
   "outputs": [
    {
     "data": {
      "text/html": [
       "<div>\n",
       "<style scoped>\n",
       "    .dataframe tbody tr th:only-of-type {\n",
       "        vertical-align: middle;\n",
       "    }\n",
       "\n",
       "    .dataframe tbody tr th {\n",
       "        vertical-align: top;\n",
       "    }\n",
       "\n",
       "    .dataframe thead th {\n",
       "        text-align: right;\n",
       "    }\n",
       "</style>\n",
       "<table border=\"1\" class=\"dataframe\">\n",
       "  <thead>\n",
       "    <tr style=\"text-align: right;\">\n",
       "      <th></th>\n",
       "      <th>state</th>\n",
       "      <th>phone number</th>\n",
       "      <th>international plan</th>\n",
       "      <th>voice mail plan</th>\n",
       "      <th>churn</th>\n",
       "    </tr>\n",
       "  </thead>\n",
       "  <tbody>\n",
       "    <tr>\n",
       "      <th>count</th>\n",
       "      <td>3333</td>\n",
       "      <td>3333</td>\n",
       "      <td>3333</td>\n",
       "      <td>3333</td>\n",
       "      <td>3333</td>\n",
       "    </tr>\n",
       "    <tr>\n",
       "      <th>unique</th>\n",
       "      <td>51</td>\n",
       "      <td>3333</td>\n",
       "      <td>2</td>\n",
       "      <td>2</td>\n",
       "      <td>2</td>\n",
       "    </tr>\n",
       "    <tr>\n",
       "      <th>top</th>\n",
       "      <td>WV</td>\n",
       "      <td>354-3237</td>\n",
       "      <td>no</td>\n",
       "      <td>no</td>\n",
       "      <td>False</td>\n",
       "    </tr>\n",
       "    <tr>\n",
       "      <th>freq</th>\n",
       "      <td>106</td>\n",
       "      <td>1</td>\n",
       "      <td>3010</td>\n",
       "      <td>2411</td>\n",
       "      <td>2850</td>\n",
       "    </tr>\n",
       "  </tbody>\n",
       "</table>\n",
       "</div>"
      ],
      "text/plain": [
       "       state phone number international plan voice mail plan  churn\n",
       "count   3333         3333               3333            3333   3333\n",
       "unique    51         3333                  2               2      2\n",
       "top       WV     354-3237                 no              no  False\n",
       "freq     106            1               3010            2411   2850"
      ]
     },
     "execution_count": 24,
     "metadata": {},
     "output_type": "execute_result"
    }
   ],
   "source": [
    "df.describe(include=['object', 'bool'])"
   ]
  },
  {
   "cell_type": "markdown",
   "metadata": {
    "_uuid": "7acac4f33f2229215aa7818b10f4dfb1fafd96af"
   },
   "source": [
    "For categorical (type `object`) and boolean (type `bool`) features we can use the `value_counts` method. Let's have a look at the distribution of `churn`:"
   ]
  },
  {
   "cell_type": "code",
   "execution_count": 25,
   "metadata": {
    "_uuid": "eef4f419ac223f320d1841635ffbb816c807fe54"
   },
   "outputs": [
    {
     "data": {
      "text/plain": [
       "False    2850\n",
       "True      483\n",
       "Name: churn, dtype: int64"
      ]
     },
     "execution_count": 25,
     "metadata": {},
     "output_type": "execute_result"
    }
   ],
   "source": [
    "df['churn'].value_counts()"
   ]
  },
  {
   "cell_type": "markdown",
   "metadata": {
    "_uuid": "78e28e7dbdd84116fe5c30a56f6c649befadd832"
   },
   "source": [
    "2850 users out of 3333 are *loyal*; their `Churn` value is `0`. To calculate fractions, pass `normalize=True` to the `value_counts` function."
   ]
  },
  {
   "cell_type": "code",
   "execution_count": 26,
   "metadata": {
    "_uuid": "b516f5e583ac75e0379048738386ece5b208f0e7"
   },
   "outputs": [
    {
     "data": {
      "text/plain": [
       "False    0.86\n",
       "True     0.14\n",
       "Name: churn, dtype: float64"
      ]
     },
     "execution_count": 26,
     "metadata": {},
     "output_type": "execute_result"
    }
   ],
   "source": [
    "df['churn'].value_counts(normalize=True)"
   ]
  },
  {
   "cell_type": "markdown",
   "metadata": {
    "_uuid": "7f54ceacde8fe8b61fca39694651c82ba43a5b2c"
   },
   "source": [
    "\n",
    "### Sorting\n",
    "\n",
    "A DataFrame can be sorted by the value of one of the variables (i.e columns). For example, we can sort by *Total day charge* (use `ascending=False` to sort in descending order):\n"
   ]
  },
  {
   "cell_type": "code",
   "execution_count": 33,
   "metadata": {
    "_uuid": "419200266ac1e7d0e96ba1a20d756c9d87eb2541"
   },
   "outputs": [
    {
     "data": {
      "text/html": [
       "<div>\n",
       "<style scoped>\n",
       "    .dataframe tbody tr th:only-of-type {\n",
       "        vertical-align: middle;\n",
       "    }\n",
       "\n",
       "    .dataframe tbody tr th {\n",
       "        vertical-align: top;\n",
       "    }\n",
       "\n",
       "    .dataframe thead th {\n",
       "        text-align: right;\n",
       "    }\n",
       "</style>\n",
       "<table border=\"1\" class=\"dataframe\">\n",
       "  <thead>\n",
       "    <tr style=\"text-align: right;\">\n",
       "      <th></th>\n",
       "      <th>state</th>\n",
       "      <th>account length</th>\n",
       "      <th>area code</th>\n",
       "      <th>phone number</th>\n",
       "      <th>international plan</th>\n",
       "      <th>voice mail plan</th>\n",
       "      <th>number vmail messages</th>\n",
       "      <th>total day minutes</th>\n",
       "      <th>total day calls</th>\n",
       "      <th>total day charge</th>\n",
       "      <th>total eve minutes</th>\n",
       "      <th>total eve calls</th>\n",
       "      <th>total eve charge</th>\n",
       "      <th>total night minutes</th>\n",
       "      <th>total night calls</th>\n",
       "      <th>total night charge</th>\n",
       "      <th>total intl minutes</th>\n",
       "      <th>total intl calls</th>\n",
       "      <th>total intl charge</th>\n",
       "      <th>customer service calls</th>\n",
       "      <th>churn</th>\n",
       "    </tr>\n",
       "  </thead>\n",
       "  <tbody>\n",
       "    <tr>\n",
       "      <th>1345</th>\n",
       "      <td>SD</td>\n",
       "      <td>98</td>\n",
       "      <td>415</td>\n",
       "      <td>392-2555</td>\n",
       "      <td>no</td>\n",
       "      <td>no</td>\n",
       "      <td>0</td>\n",
       "      <td>0.0</td>\n",
       "      <td>0</td>\n",
       "      <td>0.00</td>\n",
       "      <td>159.6</td>\n",
       "      <td>130</td>\n",
       "      <td>13.57</td>\n",
       "      <td>167.1</td>\n",
       "      <td>88</td>\n",
       "      <td>7.52</td>\n",
       "      <td>6.8</td>\n",
       "      <td>1</td>\n",
       "      <td>1.84</td>\n",
       "      <td>4</td>\n",
       "      <td>True</td>\n",
       "    </tr>\n",
       "    <tr>\n",
       "      <th>1397</th>\n",
       "      <td>VT</td>\n",
       "      <td>101</td>\n",
       "      <td>510</td>\n",
       "      <td>413-7655</td>\n",
       "      <td>no</td>\n",
       "      <td>no</td>\n",
       "      <td>0</td>\n",
       "      <td>0.0</td>\n",
       "      <td>0</td>\n",
       "      <td>0.00</td>\n",
       "      <td>192.1</td>\n",
       "      <td>119</td>\n",
       "      <td>16.33</td>\n",
       "      <td>168.8</td>\n",
       "      <td>95</td>\n",
       "      <td>7.60</td>\n",
       "      <td>7.2</td>\n",
       "      <td>4</td>\n",
       "      <td>1.94</td>\n",
       "      <td>1</td>\n",
       "      <td>False</td>\n",
       "    </tr>\n",
       "    <tr>\n",
       "      <th>2736</th>\n",
       "      <td>OK</td>\n",
       "      <td>127</td>\n",
       "      <td>510</td>\n",
       "      <td>403-1128</td>\n",
       "      <td>no</td>\n",
       "      <td>yes</td>\n",
       "      <td>27</td>\n",
       "      <td>2.6</td>\n",
       "      <td>113</td>\n",
       "      <td>0.44</td>\n",
       "      <td>254.0</td>\n",
       "      <td>102</td>\n",
       "      <td>21.59</td>\n",
       "      <td>242.7</td>\n",
       "      <td>156</td>\n",
       "      <td>10.92</td>\n",
       "      <td>9.2</td>\n",
       "      <td>5</td>\n",
       "      <td>2.48</td>\n",
       "      <td>3</td>\n",
       "      <td>False</td>\n",
       "    </tr>\n",
       "    <tr>\n",
       "      <th>2753</th>\n",
       "      <td>OH</td>\n",
       "      <td>134</td>\n",
       "      <td>415</td>\n",
       "      <td>406-4158</td>\n",
       "      <td>no</td>\n",
       "      <td>no</td>\n",
       "      <td>0</td>\n",
       "      <td>7.8</td>\n",
       "      <td>86</td>\n",
       "      <td>1.33</td>\n",
       "      <td>171.4</td>\n",
       "      <td>100</td>\n",
       "      <td>14.57</td>\n",
       "      <td>186.5</td>\n",
       "      <td>80</td>\n",
       "      <td>8.39</td>\n",
       "      <td>12.9</td>\n",
       "      <td>2</td>\n",
       "      <td>3.48</td>\n",
       "      <td>2</td>\n",
       "      <td>False</td>\n",
       "    </tr>\n",
       "    <tr>\n",
       "      <th>1986</th>\n",
       "      <td>WI</td>\n",
       "      <td>70</td>\n",
       "      <td>415</td>\n",
       "      <td>405-9233</td>\n",
       "      <td>no</td>\n",
       "      <td>no</td>\n",
       "      <td>0</td>\n",
       "      <td>7.9</td>\n",
       "      <td>100</td>\n",
       "      <td>1.34</td>\n",
       "      <td>136.4</td>\n",
       "      <td>83</td>\n",
       "      <td>11.59</td>\n",
       "      <td>156.6</td>\n",
       "      <td>89</td>\n",
       "      <td>7.05</td>\n",
       "      <td>12.1</td>\n",
       "      <td>1</td>\n",
       "      <td>3.27</td>\n",
       "      <td>0</td>\n",
       "      <td>False</td>\n",
       "    </tr>\n",
       "    <tr>\n",
       "      <th>1052</th>\n",
       "      <td>OR</td>\n",
       "      <td>98</td>\n",
       "      <td>415</td>\n",
       "      <td>378-6772</td>\n",
       "      <td>yes</td>\n",
       "      <td>no</td>\n",
       "      <td>0</td>\n",
       "      <td>12.5</td>\n",
       "      <td>67</td>\n",
       "      <td>2.13</td>\n",
       "      <td>256.6</td>\n",
       "      <td>90</td>\n",
       "      <td>21.81</td>\n",
       "      <td>169.4</td>\n",
       "      <td>88</td>\n",
       "      <td>7.62</td>\n",
       "      <td>7.7</td>\n",
       "      <td>9</td>\n",
       "      <td>2.08</td>\n",
       "      <td>1</td>\n",
       "      <td>False</td>\n",
       "    </tr>\n",
       "    <tr>\n",
       "      <th>2252</th>\n",
       "      <td>NH</td>\n",
       "      <td>148</td>\n",
       "      <td>408</td>\n",
       "      <td>333-7449</td>\n",
       "      <td>no</td>\n",
       "      <td>no</td>\n",
       "      <td>0</td>\n",
       "      <td>17.6</td>\n",
       "      <td>121</td>\n",
       "      <td>2.99</td>\n",
       "      <td>161.7</td>\n",
       "      <td>125</td>\n",
       "      <td>13.74</td>\n",
       "      <td>203.1</td>\n",
       "      <td>82</td>\n",
       "      <td>9.14</td>\n",
       "      <td>10.6</td>\n",
       "      <td>6</td>\n",
       "      <td>2.86</td>\n",
       "      <td>1</td>\n",
       "      <td>False</td>\n",
       "    </tr>\n",
       "    <tr>\n",
       "      <th>3046</th>\n",
       "      <td>MI</td>\n",
       "      <td>110</td>\n",
       "      <td>510</td>\n",
       "      <td>357-5784</td>\n",
       "      <td>no</td>\n",
       "      <td>no</td>\n",
       "      <td>0</td>\n",
       "      <td>18.9</td>\n",
       "      <td>92</td>\n",
       "      <td>3.21</td>\n",
       "      <td>258.4</td>\n",
       "      <td>81</td>\n",
       "      <td>21.96</td>\n",
       "      <td>109.6</td>\n",
       "      <td>74</td>\n",
       "      <td>4.93</td>\n",
       "      <td>14.8</td>\n",
       "      <td>4</td>\n",
       "      <td>4.00</td>\n",
       "      <td>1</td>\n",
       "      <td>False</td>\n",
       "    </tr>\n",
       "    <tr>\n",
       "      <th>1621</th>\n",
       "      <td>SC</td>\n",
       "      <td>138</td>\n",
       "      <td>510</td>\n",
       "      <td>370-9533</td>\n",
       "      <td>no</td>\n",
       "      <td>yes</td>\n",
       "      <td>21</td>\n",
       "      <td>19.5</td>\n",
       "      <td>149</td>\n",
       "      <td>3.32</td>\n",
       "      <td>140.9</td>\n",
       "      <td>109</td>\n",
       "      <td>11.98</td>\n",
       "      <td>179.7</td>\n",
       "      <td>111</td>\n",
       "      <td>8.09</td>\n",
       "      <td>7.9</td>\n",
       "      <td>1</td>\n",
       "      <td>2.13</td>\n",
       "      <td>0</td>\n",
       "      <td>False</td>\n",
       "    </tr>\n",
       "    <tr>\n",
       "      <th>1076</th>\n",
       "      <td>WY</td>\n",
       "      <td>53</td>\n",
       "      <td>415</td>\n",
       "      <td>337-4339</td>\n",
       "      <td>no</td>\n",
       "      <td>yes</td>\n",
       "      <td>27</td>\n",
       "      <td>25.9</td>\n",
       "      <td>119</td>\n",
       "      <td>4.40</td>\n",
       "      <td>206.5</td>\n",
       "      <td>96</td>\n",
       "      <td>17.55</td>\n",
       "      <td>228.1</td>\n",
       "      <td>64</td>\n",
       "      <td>10.26</td>\n",
       "      <td>6.5</td>\n",
       "      <td>7</td>\n",
       "      <td>1.76</td>\n",
       "      <td>1</td>\n",
       "      <td>False</td>\n",
       "    </tr>\n",
       "    <tr>\n",
       "      <th>2124</th>\n",
       "      <td>KS</td>\n",
       "      <td>43</td>\n",
       "      <td>415</td>\n",
       "      <td>381-9367</td>\n",
       "      <td>no</td>\n",
       "      <td>no</td>\n",
       "      <td>0</td>\n",
       "      <td>27.0</td>\n",
       "      <td>117</td>\n",
       "      <td>4.59</td>\n",
       "      <td>160.9</td>\n",
       "      <td>97</td>\n",
       "      <td>13.68</td>\n",
       "      <td>279.5</td>\n",
       "      <td>96</td>\n",
       "      <td>12.58</td>\n",
       "      <td>10.7</td>\n",
       "      <td>3</td>\n",
       "      <td>2.89</td>\n",
       "      <td>3</td>\n",
       "      <td>False</td>\n",
       "    </tr>\n",
       "    <tr>\n",
       "      <th>3174</th>\n",
       "      <td>SC</td>\n",
       "      <td>36</td>\n",
       "      <td>408</td>\n",
       "      <td>359-5091</td>\n",
       "      <td>no</td>\n",
       "      <td>yes</td>\n",
       "      <td>43</td>\n",
       "      <td>29.9</td>\n",
       "      <td>123</td>\n",
       "      <td>5.08</td>\n",
       "      <td>129.1</td>\n",
       "      <td>117</td>\n",
       "      <td>10.97</td>\n",
       "      <td>325.9</td>\n",
       "      <td>105</td>\n",
       "      <td>14.67</td>\n",
       "      <td>8.6</td>\n",
       "      <td>6</td>\n",
       "      <td>2.32</td>\n",
       "      <td>2</td>\n",
       "      <td>False</td>\n",
       "    </tr>\n",
       "    <tr>\n",
       "      <th>685</th>\n",
       "      <td>CO</td>\n",
       "      <td>63</td>\n",
       "      <td>415</td>\n",
       "      <td>408-4530</td>\n",
       "      <td>no</td>\n",
       "      <td>yes</td>\n",
       "      <td>32</td>\n",
       "      <td>30.9</td>\n",
       "      <td>113</td>\n",
       "      <td>5.25</td>\n",
       "      <td>187.0</td>\n",
       "      <td>113</td>\n",
       "      <td>15.90</td>\n",
       "      <td>230.8</td>\n",
       "      <td>101</td>\n",
       "      <td>10.39</td>\n",
       "      <td>8.6</td>\n",
       "      <td>7</td>\n",
       "      <td>2.32</td>\n",
       "      <td>1</td>\n",
       "      <td>False</td>\n",
       "    </tr>\n",
       "    <tr>\n",
       "      <th>741</th>\n",
       "      <td>NE</td>\n",
       "      <td>66</td>\n",
       "      <td>415</td>\n",
       "      <td>337-1225</td>\n",
       "      <td>no</td>\n",
       "      <td>no</td>\n",
       "      <td>0</td>\n",
       "      <td>34.0</td>\n",
       "      <td>133</td>\n",
       "      <td>5.78</td>\n",
       "      <td>278.6</td>\n",
       "      <td>61</td>\n",
       "      <td>23.68</td>\n",
       "      <td>129.6</td>\n",
       "      <td>120</td>\n",
       "      <td>5.83</td>\n",
       "      <td>11.5</td>\n",
       "      <td>3</td>\n",
       "      <td>3.11</td>\n",
       "      <td>0</td>\n",
       "      <td>False</td>\n",
       "    </tr>\n",
       "    <tr>\n",
       "      <th>1130</th>\n",
       "      <td>PA</td>\n",
       "      <td>122</td>\n",
       "      <td>415</td>\n",
       "      <td>361-5225</td>\n",
       "      <td>no</td>\n",
       "      <td>no</td>\n",
       "      <td>0</td>\n",
       "      <td>35.1</td>\n",
       "      <td>62</td>\n",
       "      <td>5.97</td>\n",
       "      <td>180.8</td>\n",
       "      <td>89</td>\n",
       "      <td>15.37</td>\n",
       "      <td>251.6</td>\n",
       "      <td>58</td>\n",
       "      <td>11.32</td>\n",
       "      <td>12.7</td>\n",
       "      <td>2</td>\n",
       "      <td>3.43</td>\n",
       "      <td>1</td>\n",
       "      <td>False</td>\n",
       "    </tr>\n",
       "    <tr>\n",
       "      <th>2241</th>\n",
       "      <td>WA</td>\n",
       "      <td>56</td>\n",
       "      <td>415</td>\n",
       "      <td>335-5806</td>\n",
       "      <td>no</td>\n",
       "      <td>yes</td>\n",
       "      <td>29</td>\n",
       "      <td>37.7</td>\n",
       "      <td>115</td>\n",
       "      <td>6.41</td>\n",
       "      <td>144.1</td>\n",
       "      <td>111</td>\n",
       "      <td>12.25</td>\n",
       "      <td>226.6</td>\n",
       "      <td>101</td>\n",
       "      <td>10.20</td>\n",
       "      <td>4.9</td>\n",
       "      <td>3</td>\n",
       "      <td>1.32</td>\n",
       "      <td>1</td>\n",
       "      <td>False</td>\n",
       "    </tr>\n",
       "    <tr>\n",
       "      <th>1687</th>\n",
       "      <td>CT</td>\n",
       "      <td>90</td>\n",
       "      <td>415</td>\n",
       "      <td>334-4438</td>\n",
       "      <td>no</td>\n",
       "      <td>no</td>\n",
       "      <td>0</td>\n",
       "      <td>37.8</td>\n",
       "      <td>80</td>\n",
       "      <td>6.43</td>\n",
       "      <td>155.3</td>\n",
       "      <td>105</td>\n",
       "      <td>13.20</td>\n",
       "      <td>175.0</td>\n",
       "      <td>111</td>\n",
       "      <td>7.88</td>\n",
       "      <td>14.2</td>\n",
       "      <td>5</td>\n",
       "      <td>3.83</td>\n",
       "      <td>3</td>\n",
       "      <td>False</td>\n",
       "    </tr>\n",
       "    <tr>\n",
       "      <th>1461</th>\n",
       "      <td>SC</td>\n",
       "      <td>145</td>\n",
       "      <td>408</td>\n",
       "      <td>377-6635</td>\n",
       "      <td>no</td>\n",
       "      <td>no</td>\n",
       "      <td>0</td>\n",
       "      <td>39.5</td>\n",
       "      <td>78</td>\n",
       "      <td>6.72</td>\n",
       "      <td>264.3</td>\n",
       "      <td>106</td>\n",
       "      <td>22.47</td>\n",
       "      <td>185.8</td>\n",
       "      <td>90</td>\n",
       "      <td>8.36</td>\n",
       "      <td>10.0</td>\n",
       "      <td>6</td>\n",
       "      <td>2.70</td>\n",
       "      <td>0</td>\n",
       "      <td>False</td>\n",
       "    </tr>\n",
       "    <tr>\n",
       "      <th>2707</th>\n",
       "      <td>RI</td>\n",
       "      <td>46</td>\n",
       "      <td>408</td>\n",
       "      <td>404-9775</td>\n",
       "      <td>no</td>\n",
       "      <td>no</td>\n",
       "      <td>0</td>\n",
       "      <td>40.4</td>\n",
       "      <td>105</td>\n",
       "      <td>6.87</td>\n",
       "      <td>172.4</td>\n",
       "      <td>83</td>\n",
       "      <td>14.65</td>\n",
       "      <td>145.1</td>\n",
       "      <td>89</td>\n",
       "      <td>6.53</td>\n",
       "      <td>9.0</td>\n",
       "      <td>2</td>\n",
       "      <td>2.43</td>\n",
       "      <td>2</td>\n",
       "      <td>False</td>\n",
       "    </tr>\n",
       "    <tr>\n",
       "      <th>527</th>\n",
       "      <td>NJ</td>\n",
       "      <td>95</td>\n",
       "      <td>415</td>\n",
       "      <td>379-6652</td>\n",
       "      <td>no</td>\n",
       "      <td>yes</td>\n",
       "      <td>22</td>\n",
       "      <td>40.9</td>\n",
       "      <td>126</td>\n",
       "      <td>6.95</td>\n",
       "      <td>133.4</td>\n",
       "      <td>90</td>\n",
       "      <td>11.34</td>\n",
       "      <td>264.2</td>\n",
       "      <td>91</td>\n",
       "      <td>11.89</td>\n",
       "      <td>11.9</td>\n",
       "      <td>7</td>\n",
       "      <td>3.21</td>\n",
       "      <td>0</td>\n",
       "      <td>False</td>\n",
       "    </tr>\n",
       "  </tbody>\n",
       "</table>\n",
       "</div>"
      ],
      "text/plain": [
       "     state  account length  area code phone number international plan  \\\n",
       "1345    SD              98        415     392-2555                 no   \n",
       "1397    VT             101        510     413-7655                 no   \n",
       "2736    OK             127        510     403-1128                 no   \n",
       "2753    OH             134        415     406-4158                 no   \n",
       "1986    WI              70        415     405-9233                 no   \n",
       "1052    OR              98        415     378-6772                yes   \n",
       "2252    NH             148        408     333-7449                 no   \n",
       "3046    MI             110        510     357-5784                 no   \n",
       "1621    SC             138        510     370-9533                 no   \n",
       "1076    WY              53        415     337-4339                 no   \n",
       "2124    KS              43        415     381-9367                 no   \n",
       "3174    SC              36        408     359-5091                 no   \n",
       "685     CO              63        415     408-4530                 no   \n",
       "741     NE              66        415     337-1225                 no   \n",
       "1130    PA             122        415     361-5225                 no   \n",
       "2241    WA              56        415     335-5806                 no   \n",
       "1687    CT              90        415     334-4438                 no   \n",
       "1461    SC             145        408     377-6635                 no   \n",
       "2707    RI              46        408     404-9775                 no   \n",
       "527     NJ              95        415     379-6652                 no   \n",
       "\n",
       "     voice mail plan  number vmail messages  total day minutes  \\\n",
       "1345              no                      0                0.0   \n",
       "1397              no                      0                0.0   \n",
       "2736             yes                     27                2.6   \n",
       "2753              no                      0                7.8   \n",
       "1986              no                      0                7.9   \n",
       "1052              no                      0               12.5   \n",
       "2252              no                      0               17.6   \n",
       "3046              no                      0               18.9   \n",
       "1621             yes                     21               19.5   \n",
       "1076             yes                     27               25.9   \n",
       "2124              no                      0               27.0   \n",
       "3174             yes                     43               29.9   \n",
       "685              yes                     32               30.9   \n",
       "741               no                      0               34.0   \n",
       "1130              no                      0               35.1   \n",
       "2241             yes                     29               37.7   \n",
       "1687              no                      0               37.8   \n",
       "1461              no                      0               39.5   \n",
       "2707              no                      0               40.4   \n",
       "527              yes                     22               40.9   \n",
       "\n",
       "      total day calls  total day charge  total eve minutes  total eve calls  \\\n",
       "1345                0              0.00              159.6              130   \n",
       "1397                0              0.00              192.1              119   \n",
       "2736              113              0.44              254.0              102   \n",
       "2753               86              1.33              171.4              100   \n",
       "1986              100              1.34              136.4               83   \n",
       "1052               67              2.13              256.6               90   \n",
       "2252              121              2.99              161.7              125   \n",
       "3046               92              3.21              258.4               81   \n",
       "1621              149              3.32              140.9              109   \n",
       "1076              119              4.40              206.5               96   \n",
       "2124              117              4.59              160.9               97   \n",
       "3174              123              5.08              129.1              117   \n",
       "685               113              5.25              187.0              113   \n",
       "741               133              5.78              278.6               61   \n",
       "1130               62              5.97              180.8               89   \n",
       "2241              115              6.41              144.1              111   \n",
       "1687               80              6.43              155.3              105   \n",
       "1461               78              6.72              264.3              106   \n",
       "2707              105              6.87              172.4               83   \n",
       "527               126              6.95              133.4               90   \n",
       "\n",
       "      total eve charge  total night minutes  total night calls  \\\n",
       "1345             13.57                167.1                 88   \n",
       "1397             16.33                168.8                 95   \n",
       "2736             21.59                242.7                156   \n",
       "2753             14.57                186.5                 80   \n",
       "1986             11.59                156.6                 89   \n",
       "1052             21.81                169.4                 88   \n",
       "2252             13.74                203.1                 82   \n",
       "3046             21.96                109.6                 74   \n",
       "1621             11.98                179.7                111   \n",
       "1076             17.55                228.1                 64   \n",
       "2124             13.68                279.5                 96   \n",
       "3174             10.97                325.9                105   \n",
       "685              15.90                230.8                101   \n",
       "741              23.68                129.6                120   \n",
       "1130             15.37                251.6                 58   \n",
       "2241             12.25                226.6                101   \n",
       "1687             13.20                175.0                111   \n",
       "1461             22.47                185.8                 90   \n",
       "2707             14.65                145.1                 89   \n",
       "527              11.34                264.2                 91   \n",
       "\n",
       "      total night charge  total intl minutes  total intl calls  \\\n",
       "1345                7.52                 6.8                 1   \n",
       "1397                7.60                 7.2                 4   \n",
       "2736               10.92                 9.2                 5   \n",
       "2753                8.39                12.9                 2   \n",
       "1986                7.05                12.1                 1   \n",
       "1052                7.62                 7.7                 9   \n",
       "2252                9.14                10.6                 6   \n",
       "3046                4.93                14.8                 4   \n",
       "1621                8.09                 7.9                 1   \n",
       "1076               10.26                 6.5                 7   \n",
       "2124               12.58                10.7                 3   \n",
       "3174               14.67                 8.6                 6   \n",
       "685                10.39                 8.6                 7   \n",
       "741                 5.83                11.5                 3   \n",
       "1130               11.32                12.7                 2   \n",
       "2241               10.20                 4.9                 3   \n",
       "1687                7.88                14.2                 5   \n",
       "1461                8.36                10.0                 6   \n",
       "2707                6.53                 9.0                 2   \n",
       "527                11.89                11.9                 7   \n",
       "\n",
       "      total intl charge  customer service calls  churn  \n",
       "1345               1.84                       4   True  \n",
       "1397               1.94                       1  False  \n",
       "2736               2.48                       3  False  \n",
       "2753               3.48                       2  False  \n",
       "1986               3.27                       0  False  \n",
       "1052               2.08                       1  False  \n",
       "2252               2.86                       1  False  \n",
       "3046               4.00                       1  False  \n",
       "1621               2.13                       0  False  \n",
       "1076               1.76                       1  False  \n",
       "2124               2.89                       3  False  \n",
       "3174               2.32                       2  False  \n",
       "685                2.32                       1  False  \n",
       "741                3.11                       0  False  \n",
       "1130               3.43                       1  False  \n",
       "2241               1.32                       1  False  \n",
       "1687               3.83                       3  False  \n",
       "1461               2.70                       0  False  \n",
       "2707               2.43                       2  False  \n",
       "527                3.21                       0  False  "
      ]
     },
     "execution_count": 33,
     "metadata": {},
     "output_type": "execute_result"
    }
   ],
   "source": [
    "df.sort_values(by='total day charge', ascending=True).head(20)"
   ]
  },
  {
   "cell_type": "markdown",
   "metadata": {},
   "source": [
    "Sorting Total day charge in ascending order"
   ]
  },
  {
   "cell_type": "code",
   "execution_count": null,
   "metadata": {},
   "outputs": [],
   "source": [
    "df.sort_values(by='total day charge').head(10)"
   ]
  },
  {
   "cell_type": "markdown",
   "metadata": {
    "_uuid": "ff41ebcef7b883413530260388df7e23996862ba"
   },
   "source": [
    "### Indexing and retrieving data\n",
    "\n",
    "A DataFrame can be indexed in a few different ways. \n",
    "\n",
    "To get a single column/feature, you can use a `DataFrame['Name']` construction. Let's use this to answer a question about that column alone: **what is the proportion of churned users in our dataframe?**"
   ]
  },
  {
   "cell_type": "code",
   "execution_count": null,
   "metadata": {
    "_uuid": "b020796a83bc9e10b1bc8e9c6439fc006302d999"
   },
   "outputs": [],
   "source": [
    "df['churn'].mean()"
   ]
  },
  {
   "cell_type": "markdown",
   "metadata": {
    "_uuid": "8abe3b0982e4599e775f08d8f2feab2b8a702a7b"
   },
   "source": [
    "14.5% is actually quite bad for a company; such a churn rate can make the company go bankrupt.\n",
    "\n",
    "**Boolean indexing** with one column is also very convenient. The syntax is `df[df['Name'] == P]`, where `P` is some logical condition that is checked for each element of the `Name` column. The result of such indexing is the DataFrame consisting only of rows that satisfy the `P` condition on the `Name` column. \n",
    "\n",
    "Lets use it to see all customers who have churned out of the company **('churn' == 1)**\n"
   ]
  },
  {
   "cell_type": "code",
   "execution_count": null,
   "metadata": {},
   "outputs": [],
   "source": [
    "df[df['churn'] == True]"
   ]
  },
  {
   "cell_type": "markdown",
   "metadata": {},
   "source": [
    "Let's answer the question:\n",
    "\n",
    "**What are average values of numerical features for churned users?**"
   ]
  },
  {
   "cell_type": "code",
   "execution_count": null,
   "metadata": {
    "_uuid": "3712d185e50d44c65128468c603b120b75786c84"
   },
   "outputs": [],
   "source": [
    "df[df['churn'] == True].mean()"
   ]
  },
  {
   "cell_type": "markdown",
   "metadata": {},
   "source": [
    "**What are average values of numerical features for non-churned users?**"
   ]
  },
  {
   "cell_type": "code",
   "execution_count": null,
   "metadata": {},
   "outputs": [],
   "source": [
    "df[df['churn'] == False].mean()"
   ]
  },
  {
   "cell_type": "markdown",
   "metadata": {
    "_uuid": "126e527e04c244c71edd9eac3abcc4a0a8bcd2cb"
   },
   "source": [
    "**How much time (on average) do churned users spend on the phone during daytime?**"
   ]
  },
  {
   "cell_type": "code",
   "execution_count": null,
   "metadata": {
    "_uuid": "314dfa8e0aeaa0a1d333e32234bd9b3e0a001348"
   },
   "outputs": [],
   "source": [
    "df[df['churn'] == True]['total day minutes'].mean()"
   ]
  },
  {
   "cell_type": "markdown",
   "metadata": {
    "_uuid": "ef0358493f1731814d1bb34759ec6a0fad822487"
   },
   "source": [
    "\n",
    "**What is the maximum length of international calls among loyal users (`churn == 0`) who do not have an international plan?**\n",
    "\n"
   ]
  },
  {
   "cell_type": "code",
   "execution_count": null,
   "metadata": {
    "_uuid": "41874ec9bde4b2474a0bb9faf93795b2ae6cdf24"
   },
   "outputs": [],
   "source": [
    "df[(df['churn'] == False) & (df['international plan'] == 'no')]['total intl minutes'].max()"
   ]
  },
  {
   "cell_type": "markdown",
   "metadata": {
    "_uuid": "22f7916fb05500116fdd6e52b86bf7949912bd9c"
   },
   "source": [
    "\n",
    "### Grouping\n",
    "\n",
    "In general, grouping data in Pandas works as follows:\n"
   ]
  },
  {
   "cell_type": "markdown",
   "metadata": {
    "_uuid": "850ace3defaca6b72ef976c86a5020c4ed8f65b3"
   },
   "source": [
    "\n",
    "```python\n",
    "df.groupby(by=grouping_columns)[columns_to_show].function()\n",
    "```"
   ]
  },
  {
   "cell_type": "markdown",
   "metadata": {
    "_uuid": "1ac45d322f049449259ff21197e9977e220e82d1"
   },
   "source": [
    "\n",
    "1. First, the `groupby` method divides the `grouping_columns` by their values. They become a new index in the resulting dataframe.\n",
    "2. Then, columns of interest are selected (`columns_to_show`). If `columns_to_show` is not included, all non groupby clauses will be included.\n",
    "3. Finally, one or several functions are applied to the obtained groups per selected columns.\n",
    "\n",
    "Here is an example where we group the data according to the values of the `Churn` variable and display statistics of three columns in each group:"
   ]
  },
  {
   "cell_type": "code",
   "execution_count": null,
   "metadata": {
    "_uuid": "180e6b3d26c8adc52e46d8ab82dad34f9a49e234"
   },
   "outputs": [],
   "source": [
    "columns_to_show = ['total day minutes', 'total eve minutes', 'total night minutes']\n",
    "\n",
    "df.groupby(['churn'])[columns_to_show].describe(percentiles=[])"
   ]
  },
  {
   "cell_type": "markdown",
   "metadata": {
    "_uuid": "221a34086734d3b52deccfda2db2edfb6f1b92a5"
   },
   "source": [
    "\n",
    "### Summary tables\n",
    "\n",
    "Suppose we want to see how the observations in our sample are distributed in the context of two variables - `churn` and `international plan`. To do so, we can build a **contingency table** using the `crosstab` method:\n",
    "\n"
   ]
  },
  {
   "cell_type": "code",
   "execution_count": null,
   "metadata": {
    "_uuid": "ebcff1fdb2e6805fa186a0f5c27b46655222e9c2"
   },
   "outputs": [],
   "source": [
    "pd.crosstab(df['churn'], df['international plan'])"
   ]
  },
  {
   "cell_type": "code",
   "execution_count": null,
   "metadata": {
    "_uuid": "b2228aa42dd23fb1c70525f4ab105c5e2ee6196d",
    "scrolled": true
   },
   "outputs": [],
   "source": [
    "pd.crosstab(df['churn'], df['voice mail plan'])"
   ]
  },
  {
   "cell_type": "markdown",
   "metadata": {
    "_uuid": "ea35f7ad664ff32785231dcae2292e9a66b28b90"
   },
   "source": [
    "\n",
    "### DataFrame transformations\n",
    "\n",
    "Like many other things in Pandas, adding columns to a DataFrame can be performed in many ways.\n",
    "\n",
    "For example, if we want to calculate the total charge of calls for all users, let's create the `total charge` Series and paste it into the DataFrame:\n",
    "\n"
   ]
  },
  {
   "cell_type": "markdown",
   "metadata": {
    "_uuid": "244a645e9676b8bd2546bc84926cb9e43124e4c2"
   },
   "source": [
    "Notice the last column \"total charge,\" which we have added in our data frame "
   ]
  },
  {
   "cell_type": "code",
   "execution_count": null,
   "metadata": {
    "_uuid": "c5ec80ecb3b2e917834ccfb6cb0a76aced20315f"
   },
   "outputs": [],
   "source": [
    "df['total charge'] = df['total day charge'] + df['total eve charge'] + \\\n",
    "                     df['total night charge'] + df['total intl charge']\n",
    "df.head()"
   ]
  },
  {
   "cell_type": "markdown",
   "metadata": {
    "_uuid": "83e0b3c996775535de55a8773bdd7dee215e2a3b"
   },
   "source": [
    "To delete columns or rows, use the `drop` method, passing the required indexes and the `axis` parameter (`1` if you delete columns, and nothing or `0` if you delete rows). The `inplace` argument tells whether to change the original DataFrame. With `inplace=False`, the `drop` method doesn't change the existing DataFrame and returns a new one with dropped rows or columns. With `inplace=True`, it alters the DataFrame."
   ]
  },
  {
   "cell_type": "code",
   "execution_count": null,
   "metadata": {
    "_uuid": "48fbc2e42a623ee78f9e2d9222186387561bbb0a"
   },
   "outputs": [],
   "source": [
    "# get rid of just created column and phone number                \n",
    "df.drop(['total charge', 'phone number'], axis=1, inplace=True) \n",
    "# and here’s how you can delete rows\n",
    "#df.drop([1, 2]).head() "
   ]
  },
  {
   "cell_type": "markdown",
   "metadata": {
    "_uuid": "482e5e694de9c2173dd607a2821c54d704bc88ea"
   },
   "source": [
    "## 2. First attempt at predicting telecom churn\n",
    "\n",
    "\n",
    "Let's see how churn rate is related to the *International plan* feature. We'll do this using a `crosstab` contingency table and also through visual analysis with `Seaborn`\n"
   ]
  },
  {
   "cell_type": "code",
   "execution_count": null,
   "metadata": {
    "_uuid": "8bc65b91a9041032168dfd50d5fab097c003d9c0",
    "scrolled": true
   },
   "outputs": [],
   "source": [
    "pd.crosstab(df['churn'], df['international plan'], margins=True)"
   ]
  },
  {
   "cell_type": "code",
   "execution_count": null,
   "metadata": {
    "_uuid": "c809a62f4d1077993a0f0f2d36d1066c108ca23d"
   },
   "outputs": [],
   "source": [
    "# some imports to set up plotting \n",
    "import matplotlib.pyplot as plt\n",
    "# pip install seaborn \n",
    "import seaborn as sns\n",
    "# Graphics in retina format are sharper and more legible\n",
    "%config InlineBackend.figure_format = 'retina'"
   ]
  },
  {
   "cell_type": "code",
   "execution_count": null,
   "metadata": {
    "_uuid": "ae3bb6cdde2a6d72112e6076d92b35f2f2caaa3e"
   },
   "outputs": [],
   "source": [
    "sns.countplot(x='international plan', hue='churn', data=df);"
   ]
  },
  {
   "cell_type": "markdown",
   "metadata": {
    "_uuid": "c1134a7f1fe7a5c8dae399a84f58611043f6e757"
   },
   "source": [
    "\n",
    "We see that, with *International Plan*, the churn rate is much higher, which is an interesting observation! Perhaps large and poorly controlled expenses with international calls are very conflict-prone and lead to dissatisfaction among the telecom operator's customers.\n",
    "\n",
    "Next, let's look at another important feature – *Customer service calls*. Let's also make a summary table and a picture."
   ]
  },
  {
   "cell_type": "code",
   "execution_count": null,
   "metadata": {
    "_uuid": "75cf7fe86ae75e01d49a07fb52fe5c8ce1c6a334"
   },
   "outputs": [],
   "source": [
    "pd.crosstab(df['churn'], df['customer service calls'], margins=True)"
   ]
  },
  {
   "cell_type": "code",
   "execution_count": null,
   "metadata": {
    "_uuid": "bc0a6cb1fb72cc66bc1d7c33301b3ab0d2c7d81b"
   },
   "outputs": [],
   "source": [
    "sns.countplot(x='customer service calls', hue='churn', data=df);"
   ]
  },
  {
   "cell_type": "markdown",
   "metadata": {
    "_uuid": "f07e73f5b67964229579f87c626b7a22d3b4e622"
   },
   "source": [
    "Although it's not so obvious from the summary table, it's easy to see from the above plot that the churn rate increases sharply from 4 customer service calls and above.\n",
    "\n",
    "Now let's add a binary feature to our DataFrame – `Customer service calls > 3`. And once again, let's see how it relates to churn. "
   ]
  },
  {
   "cell_type": "code",
   "execution_count": null,
   "metadata": {
    "_uuid": "37b91ac20b481d221d97515aa46c9cda713a6991"
   },
   "outputs": [],
   "source": [
    "df['many_service_calls'] = (df['customer service calls'] > 3).astype('int')\n",
    "\n",
    "pd.crosstab(df['many_service_calls'], df['churn'], margins=True)"
   ]
  },
  {
   "cell_type": "code",
   "execution_count": null,
   "metadata": {
    "_uuid": "58463ad14986d044a406debf885fd25f43fee525"
   },
   "outputs": [],
   "source": [
    "sns.countplot(x='many_service_calls', hue='churn', data=df);"
   ]
  },
  {
   "cell_type": "markdown",
   "metadata": {
    "_uuid": "303b7f45cfd75c98ddfb31c686a8e023c123ad45"
   },
   "source": [
    "\n",
    "Let's construct another contingency table that relates *Churn* with both *International plan* and freshly created *Many_service_calls*.\n",
    "\n"
   ]
  },
  {
   "cell_type": "code",
   "execution_count": null,
   "metadata": {
    "_uuid": "4679d8985f7b32943cd990a1dc4e88f41edca039",
    "scrolled": true
   },
   "outputs": [],
   "source": [
    "pd.crosstab(df['many_service_calls'] & (df['international plan'] == 'yes') , df['churn'], margins=True)"
   ]
  },
  {
   "cell_type": "markdown",
   "metadata": {},
   "source": [
    "Therefore, predicting that a customer is not loyal (*Churn*=1) in the case when the number of calls to the service center is greater than 3 and the *International Plan* is added (and predicting *Churn*=0 otherwise), we might expect an accuracy of 85.8% (we are mistaken only 464 + 9 times). This number, 85.8%, that we got through this very simple reasoning serves as a good starting point (*baseline*) for the further machine learning models that we will build. \n",
    "\n",
    "Recall that, before the advent of machine learning, the data analysis process looked something like this. Let's recap what we've covered:\n",
    "    \n",
    "- The share of loyal clients in the sample is 85.5%. The most naive model that always predicts a \"loyal customer\" on such data will guess right in about 85.5% of all cases. That is, the proportion of correct answers (*accuracy*) of subsequent models should be no less than this number, and will hopefully be significantly higher;\n",
    "- With the help of a simple forecast that can be expressed by the following formula: \"International plan = True & Customer Service calls > 3 => Churn = 1, else Churn = 0\", we can expect a guessing rate of 85.8%, which is just above 85.5%. \n",
    "- We got these two baselines without applying machine learning, and they'll serve as the starting point for our subsequent models. \n",
    "\n",
    "This notebook is adaption from the following kaggle notebook https://www.kaggle.com/kashnitsky/topic-1-exploratory-data-analysis-with-pandas. "
   ]
  },
  {
   "cell_type": "code",
   "execution_count": null,
   "metadata": {},
   "outputs": [],
   "source": []
  }
 ],
 "metadata": {
  "kernelspec": {
   "display_name": "Python 3",
   "language": "python",
   "name": "python3"
  },
  "language_info": {
   "codemirror_mode": {
    "name": "ipython",
    "version": 3
   },
   "file_extension": ".py",
   "mimetype": "text/x-python",
   "name": "python",
   "nbconvert_exporter": "python",
   "pygments_lexer": "ipython3",
   "version": "3.8.5"
  }
 },
 "nbformat": 4,
 "nbformat_minor": 4
}
